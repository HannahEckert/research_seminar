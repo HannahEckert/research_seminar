{
 "cells": [
  {
   "cell_type": "code",
   "execution_count": 187,
   "metadata": {},
   "outputs": [],
   "source": [
    "from ucimlrepo import fetch_ucirepo \n",
    "import numpy as np\n",
    "from keras.layers import Input, Dense, Lambda\n",
    "from keras.models import Model\n",
    "from keras import backend as K\n",
    "from keras.utils import to_categorical\n",
    "from sklearn.model_selection import train_test_split\n",
    "from sklearn.model_selection import train_test_split\n",
    "from keras.losses import binary_crossentropy\n",
    "from sklearn.preprocessing import StandardScaler\n",
    "import matplotlib.pyplot as plt\n",
    "from sklearn.manifold import TSNE\n",
    "import umap"
   ]
  },
  {
   "cell_type": "code",
   "execution_count": 188,
   "metadata": {},
   "outputs": [],
   "source": [
    "  \n",
    "# fetch dataset \n",
    "spambase = fetch_ucirepo(id=94) \n",
    "  \n",
    "# data (as pandas dataframes) \n",
    "X = spambase.data.features \n",
    "y = spambase.data.targets "
   ]
  },
  {
   "cell_type": "code",
   "execution_count": 189,
   "metadata": {},
   "outputs": [],
   "source": [
    "#split data\n",
    "X_train, X_test, y_train, y_test = train_test_split(X, y, stratify=y, test_size=0.2, random_state=42)\n",
    "#transform to one hot encoding\n",
    "y_train = to_categorical(y_train)\n",
    "y_test = to_categorical(y_test)"
   ]
  },
  {
   "cell_type": "code",
   "execution_count": 190,
   "metadata": {},
   "outputs": [],
   "source": [
    "# Standardize the input data\n",
    "scaler = StandardScaler()\n",
    "X_train = scaler.fit_transform(X_train)\n",
    "X_test = scaler.transform(X_test)"
   ]
  },
  {
   "cell_type": "code",
   "execution_count": 191,
   "metadata": {},
   "outputs": [],
   "source": [
    "original_dim = X_train.shape[1]\n",
    "latent_dim = 8\n",
    "intermediate_dim = 256"
   ]
  },
  {
   "cell_type": "code",
   "execution_count": 192,
   "metadata": {},
   "outputs": [],
   "source": [
    "#input layer\n",
    "inputs = Input(shape=(original_dim,))\n",
    "labels = Input(shape=(2,))\n",
    "\n",
    "#dense layer with relu activation\n",
    "h = Dense(intermediate_dim, activation='relu')(inputs)"
   ]
  },
  {
   "cell_type": "code",
   "execution_count": 193,
   "metadata": {},
   "outputs": [],
   "source": [
    "## encoder model ##\n",
    "\n",
    "# parameters of latent distribution\n",
    "z_mean = Dense(latent_dim)(h)\n",
    "z_log_var = Dense(latent_dim)(h)"
   ]
  },
  {
   "cell_type": "code",
   "execution_count": 194,
   "metadata": {},
   "outputs": [],
   "source": [
    "# sampling function\n",
    "def sampling(args):\n",
    "    z_mean, z_log_var = args\n",
    "    epsilon = K.random_normal(shape=(K.shape(z_mean)[0], latent_dim), mean=0., stddev=1.)\n",
    "    return z_mean + K.exp(z_log_var / 2) * epsilon"
   ]
  },
  {
   "cell_type": "code",
   "execution_count": 195,
   "metadata": {},
   "outputs": [],
   "source": [
    "# sample vector from latent distribution\n",
    "z = Lambda(sampling, output_shape=(latent_dim,))([z_mean, z_log_var])"
   ]
  },
  {
   "cell_type": "code",
   "execution_count": 196,
   "metadata": {},
   "outputs": [],
   "source": [
    "# classifier\n",
    "classifier_h = Dense(intermediate_dim, activation='relu')(z)\n",
    "classifier_output = Dense(2, activation='softmax')(classifier_h)"
   ]
  },
  {
   "cell_type": "code",
   "execution_count": 197,
   "metadata": {},
   "outputs": [],
   "source": [
    "### Decoder model ###\n",
    "\n",
    "# Dense layer with relu activation takes sampled latent space vector z and maps it to an intermediate space\n",
    "decoder_h = Dense(intermediate_dim, activation='relu')\n",
    "\n",
    "# Dense layer with sigmoid activation takes the intermediate space vector and maps it back to the original dimension\n",
    "decoder_mean = Dense(original_dim, activation='sigmoid')\n",
    "\n",
    "h_decoded = decoder_h(z)\n",
    "x_decoded_mean = decoder_mean(h_decoded)"
   ]
  },
  {
   "cell_type": "code",
   "execution_count": 198,
   "metadata": {},
   "outputs": [],
   "source": [
    "# VAE model\n",
    "vae = Model([labels, inputs], [x_decoded_mean,classifier_output])"
   ]
  },
  {
   "cell_type": "code",
   "execution_count": 199,
   "metadata": {},
   "outputs": [],
   "source": [
    "# Define the VAE loss\n",
    "\n",
    "# Reconstruction loss\n",
    "rec_loss = original_dim * binary_crossentropy(inputs, x_decoded_mean)\n",
    "# KL divergence loss \n",
    "kl_loss = -0.5 * K.sum(1 + z_log_var - K.square(z_mean) - K.exp(z_log_var), axis=-1)\n",
    "#classifier loss\n",
    "class_loss = binary_crossentropy(labels, classifier_output)\n",
    "# Total loss\n",
    "vae_loss = K.mean(rec_loss + kl_loss + class_loss)\n",
    "\n"
   ]
  },
  {
   "cell_type": "code",
   "execution_count": 200,
   "metadata": {},
   "outputs": [],
   "source": [
    "vae.add_loss(vae_loss)\n",
    "vae.compile(optimizer='adam')"
   ]
  },
  {
   "cell_type": "code",
   "execution_count": 201,
   "metadata": {},
   "outputs": [
    {
     "name": "stdout",
     "output_type": "stream",
     "text": [
      "Epoch 1/100\n",
      "58/58 [==============================] - 3s 9ms/step - loss: 21.3978 - val_loss: -2.3767\n",
      "Epoch 2/100\n",
      "58/58 [==============================] - 0s 5ms/step - loss: -206.7661 - val_loss: -924.5719\n",
      "Epoch 3/100\n",
      "58/58 [==============================] - 0s 5ms/step - loss: -6967.2339 - val_loss: -19175.1328\n",
      "Epoch 4/100\n",
      "58/58 [==============================] - 0s 5ms/step - loss: -58465.6406 - val_loss: -118349.6328\n",
      "Epoch 5/100\n",
      "58/58 [==============================] - 0s 6ms/step - loss: -251204.1094 - val_loss: -423812.5938\n",
      "Epoch 6/100\n",
      "58/58 [==============================] - 0s 6ms/step - loss: -735080.6875 - val_loss: -1097874.1250\n",
      "Epoch 7/100\n",
      "58/58 [==============================] - 0s 5ms/step - loss: -1705050.5000 - val_loss: -2352382.2500\n",
      "Epoch 8/100\n",
      "58/58 [==============================] - 0s 5ms/step - loss: -3371653.5000 - val_loss: -4425654.0000\n",
      "Epoch 9/100\n",
      "58/58 [==============================] - 0s 5ms/step - loss: -5961135.5000 - val_loss: -7560185.0000\n",
      "Epoch 10/100\n",
      "58/58 [==============================] - 0s 6ms/step - loss: -9586088.0000 - val_loss: -11494412.0000\n",
      "Epoch 11/100\n",
      "58/58 [==============================] - 0s 5ms/step - loss: -14213671.0000 - val_loss: -16639639.0000\n",
      "Epoch 12/100\n",
      "58/58 [==============================] - 0s 5ms/step - loss: -20384610.0000 - val_loss: -23319228.0000\n",
      "Epoch 13/100\n",
      "58/58 [==============================] - 0s 6ms/step - loss: -28064746.0000 - val_loss: -31964462.0000\n",
      "Epoch 14/100\n",
      "58/58 [==============================] - 0s 5ms/step - loss: -38171812.0000 - val_loss: -42898516.0000\n",
      "Epoch 15/100\n",
      "58/58 [==============================] - 0s 5ms/step - loss: -50631092.0000 - val_loss: -56548032.0000\n",
      "Epoch 16/100\n",
      "58/58 [==============================] - 0s 5ms/step - loss: -65744356.0000 - val_loss: -73284952.0000\n",
      "Epoch 17/100\n",
      "58/58 [==============================] - 0s 5ms/step - loss: -85207360.0000 - val_loss: -93582096.0000\n",
      "Epoch 18/100\n",
      "58/58 [==============================] - 0s 5ms/step - loss: -107743152.0000 - val_loss: -117700608.0000\n",
      "Epoch 19/100\n",
      "58/58 [==============================] - 0s 5ms/step - loss: -135418752.0000 - val_loss: -146206480.0000\n",
      "Epoch 20/100\n",
      "58/58 [==============================] - 0s 5ms/step - loss: -166635632.0000 - val_loss: -179836000.0000\n",
      "Epoch 21/100\n",
      "58/58 [==============================] - 0s 5ms/step - loss: -204320656.0000 - val_loss: -218501776.0000\n",
      "Epoch 22/100\n",
      "58/58 [==============================] - 0s 5ms/step - loss: -246875008.0000 - val_loss: -262456752.0000\n",
      "Epoch 23/100\n",
      "58/58 [==============================] - 0s 5ms/step - loss: -293966016.0000 - val_loss: -312647808.0000\n",
      "Epoch 24/100\n",
      "58/58 [==============================] - 0s 5ms/step - loss: -350376000.0000 - val_loss: -369247040.0000\n",
      "Epoch 25/100\n",
      "58/58 [==============================] - 0s 5ms/step - loss: 73564667904.0000 - val_loss: -429741728.0000\n",
      "Epoch 26/100\n",
      "58/58 [==============================] - 0s 5ms/step - loss: -468948288.0000 - val_loss: -486734208.0000\n",
      "Epoch 27/100\n",
      "58/58 [==============================] - 0s 5ms/step - loss: -528079936.0000 - val_loss: -546473920.0000\n",
      "Epoch 28/100\n",
      "58/58 [==============================] - 0s 6ms/step - loss: -593767808.0000 - val_loss: -608874112.0000\n",
      "Epoch 29/100\n",
      "58/58 [==============================] - 0s 5ms/step - loss: -657593920.0000 - val_loss: -675623808.0000\n",
      "Epoch 30/100\n",
      "58/58 [==============================] - 0s 5ms/step - loss: -726125888.0000 - val_loss: -744429888.0000\n",
      "Epoch 31/100\n",
      "58/58 [==============================] - 0s 5ms/step - loss: -787379456.0000 - val_loss: -816711040.0000\n",
      "Epoch 32/100\n",
      "58/58 [==============================] - 0s 6ms/step - loss: -877928448.0000 - val_loss: -892462976.0000\n",
      "Epoch 33/100\n",
      "58/58 [==============================] - 0s 6ms/step - loss: -954800064.0000 - val_loss: -971887296.0000\n",
      "Epoch 34/100\n",
      "58/58 [==============================] - 0s 5ms/step - loss: -1039690304.0000 - val_loss: -1054033984.0000\n",
      "Epoch 35/100\n",
      "58/58 [==============================] - 0s 5ms/step - loss: -1123083008.0000 - val_loss: -1140614016.0000\n",
      "Epoch 36/100\n",
      "58/58 [==============================] - 0s 5ms/step - loss: -1211381888.0000 - val_loss: -1230112256.0000\n",
      "Epoch 37/100\n",
      "58/58 [==============================] - 0s 5ms/step - loss: -1310189184.0000 - val_loss: -1323217536.0000\n",
      "Epoch 38/100\n",
      "58/58 [==============================] - 0s 5ms/step - loss: -1406742400.0000 - val_loss: -1420622976.0000\n",
      "Epoch 39/100\n",
      "58/58 [==============================] - 0s 5ms/step - loss: -1511064576.0000 - val_loss: -1520785280.0000\n",
      "Epoch 40/100\n",
      "58/58 [==============================] - 0s 6ms/step - loss: -1612943744.0000 - val_loss: -1626187264.0000\n",
      "Epoch 41/100\n",
      "58/58 [==============================] - 0s 5ms/step - loss: -1722368000.0000 - val_loss: -1734289792.0000\n",
      "Epoch 42/100\n",
      "58/58 [==============================] - 0s 5ms/step - loss: -1829390720.0000 - val_loss: -1847480320.0000\n",
      "Epoch 43/100\n",
      "58/58 [==============================] - 0s 5ms/step - loss: -1944396160.0000 - val_loss: -1962713984.0000\n",
      "Epoch 44/100\n",
      "58/58 [==============================] - 0s 5ms/step - loss: -2065386752.0000 - val_loss: -2081578496.0000\n",
      "Epoch 45/100\n",
      "58/58 [==============================] - 0s 5ms/step - loss: -2201778176.0000 - val_loss: -2205045760.0000\n",
      "Epoch 46/100\n",
      "58/58 [==============================] - 0s 5ms/step - loss: -2327081216.0000 - val_loss: -2334704640.0000\n",
      "Epoch 47/100\n",
      "58/58 [==============================] - 0s 5ms/step - loss: -2447409920.0000 - val_loss: -2466745344.0000\n",
      "Epoch 48/100\n",
      "58/58 [==============================] - 0s 5ms/step - loss: -2594625280.0000 - val_loss: -2602471168.0000\n",
      "Epoch 49/100\n",
      "58/58 [==============================] - 0s 7ms/step - loss: -2731756032.0000 - val_loss: -2741420544.0000\n",
      "Epoch 50/100\n",
      "58/58 [==============================] - 0s 6ms/step - loss: -2883045888.0000 - val_loss: -2886427904.0000\n",
      "Epoch 51/100\n",
      "58/58 [==============================] - 0s 5ms/step - loss: -3050829312.0000 - val_loss: -3034096896.0000\n",
      "Epoch 52/100\n",
      "58/58 [==============================] - 0s 5ms/step - loss: -3181889280.0000 - val_loss: -3188600832.0000\n",
      "Epoch 53/100\n",
      "58/58 [==============================] - 0s 5ms/step - loss: -3357709568.0000 - val_loss: -3344803584.0000\n",
      "Epoch 54/100\n",
      "58/58 [==============================] - 0s 5ms/step - loss: -3504636928.0000 - val_loss: -3506919168.0000\n",
      "Epoch 55/100\n",
      "58/58 [==============================] - 0s 5ms/step - loss: -3666567424.0000 - val_loss: -3673015808.0000\n",
      "Epoch 56/100\n",
      "58/58 [==============================] - 0s 5ms/step - loss: -3845467904.0000 - val_loss: -3841476864.0000\n",
      "Epoch 57/100\n",
      "58/58 [==============================] - 0s 5ms/step - loss: -4022525696.0000 - val_loss: -4016099584.0000\n",
      "Epoch 58/100\n",
      "58/58 [==============================] - 0s 5ms/step - loss: -4204667648.0000 - val_loss: -4194182912.0000\n",
      "Epoch 59/100\n",
      "58/58 [==============================] - 1s 9ms/step - loss: -4394102784.0000 - val_loss: -4377712128.0000\n",
      "Epoch 60/100\n",
      "58/58 [==============================] - 0s 5ms/step - loss: -4633214976.0000 - val_loss: -4564007424.0000\n",
      "Epoch 61/100\n",
      "58/58 [==============================] - 0s 5ms/step - loss: -4775601152.0000 - val_loss: -4758707712.0000\n",
      "Epoch 62/100\n",
      "58/58 [==============================] - 0s 5ms/step - loss: -4983296000.0000 - val_loss: -4955378176.0000\n",
      "Epoch 63/100\n",
      "58/58 [==============================] - 0s 5ms/step - loss: -5168372736.0000 - val_loss: -5155462656.0000\n",
      "Epoch 64/100\n",
      "58/58 [==============================] - 0s 5ms/step - loss: -5391983104.0000 - val_loss: -5361111552.0000\n",
      "Epoch 65/100\n",
      "58/58 [==============================] - 0s 5ms/step - loss: -5582464000.0000 - val_loss: -5572712960.0000\n",
      "Epoch 66/100\n",
      "58/58 [==============================] - 0s 5ms/step - loss: -5803862528.0000 - val_loss: -5784171008.0000\n",
      "Epoch 67/100\n",
      "58/58 [==============================] - 0s 5ms/step - loss: -6060669952.0000 - val_loss: -6003581952.0000\n",
      "Epoch 68/100\n",
      "58/58 [==============================] - 0s 5ms/step - loss: -6250235392.0000 - val_loss: -6229526016.0000\n",
      "Epoch 69/100\n",
      "58/58 [==============================] - 0s 5ms/step - loss: -6511046144.0000 - val_loss: -6455311872.0000\n",
      "Epoch 70/100\n",
      "58/58 [==============================] - 0s 6ms/step - loss: -6761508864.0000 - val_loss: -6689817088.0000\n",
      "Epoch 71/100\n",
      "58/58 [==============================] - 0s 5ms/step - loss: -6978787328.0000 - val_loss: -6927628800.0000\n",
      "Epoch 72/100\n",
      "58/58 [==============================] - 0s 7ms/step - loss: -7230555136.0000 - val_loss: -7174063616.0000\n",
      "Epoch 73/100\n",
      "58/58 [==============================] - 0s 6ms/step - loss: -7510127616.0000 - val_loss: -7420793344.0000\n",
      "Epoch 74/100\n",
      "58/58 [==============================] - 0s 6ms/step - loss: -7724715008.0000 - val_loss: -7673260544.0000\n",
      "Epoch 75/100\n",
      "58/58 [==============================] - 0s 5ms/step - loss: -7691991040.0000 - val_loss: -7932788736.0000\n",
      "Epoch 76/100\n",
      "58/58 [==============================] - 0s 5ms/step - loss: -8270428160.0000 - val_loss: -8192491008.0000\n",
      "Epoch 77/100\n",
      "58/58 [==============================] - 0s 6ms/step - loss: -8548889088.0000 - val_loss: -8459250688.0000\n",
      "Epoch 78/100\n",
      "58/58 [==============================] - 0s 6ms/step - loss: -8842028032.0000 - val_loss: -8730399744.0000\n",
      "Epoch 79/100\n",
      "58/58 [==============================] - 0s 7ms/step - loss: -9109447680.0000 - val_loss: -9007717376.0000\n",
      "Epoch 80/100\n",
      "58/58 [==============================] - 0s 7ms/step - loss: -9363427328.0000 - val_loss: -9290557440.0000\n",
      "Epoch 81/100\n",
      "58/58 [==============================] - 0s 5ms/step - loss: -9669903360.0000 - val_loss: -9577407488.0000\n",
      "Epoch 82/100\n",
      "58/58 [==============================] - 0s 6ms/step - loss: -9981216768.0000 - val_loss: -9867561984.0000\n",
      "Epoch 83/100\n",
      "58/58 [==============================] - 0s 6ms/step - loss: -10251939840.0000 - val_loss: -10164804608.0000\n",
      "Epoch 84/100\n",
      "58/58 [==============================] - 0s 6ms/step - loss: -10617489408.0000 - val_loss: -10462789632.0000\n",
      "Epoch 85/100\n",
      "58/58 [==============================] - 0s 6ms/step - loss: -10864016384.0000 - val_loss: -10775773184.0000\n",
      "Epoch 86/100\n",
      "58/58 [==============================] - 0s 6ms/step - loss: -11220591616.0000 - val_loss: -11086117888.0000\n",
      "Epoch 87/100\n",
      "58/58 [==============================] - 0s 6ms/step - loss: -11576412160.0000 - val_loss: -11399411712.0000\n",
      "Epoch 88/100\n",
      "58/58 [==============================] - 0s 6ms/step - loss: -11864425472.0000 - val_loss: -11725477888.0000\n",
      "Epoch 89/100\n",
      "58/58 [==============================] - 0s 6ms/step - loss: -12250753024.0000 - val_loss: -12056792064.0000\n",
      "Epoch 90/100\n",
      "58/58 [==============================] - 0s 6ms/step - loss: -12600154112.0000 - val_loss: -12391390208.0000\n",
      "Epoch 91/100\n",
      "58/58 [==============================] - 0s 6ms/step - loss: -12861662208.0000 - val_loss: -12730760192.0000\n",
      "Epoch 92/100\n",
      "58/58 [==============================] - 0s 6ms/step - loss: -13253976064.0000 - val_loss: -13075381248.0000\n",
      "Epoch 93/100\n",
      "58/58 [==============================] - 0s 8ms/step - loss: -13608650752.0000 - val_loss: -13428536320.0000\n",
      "Epoch 94/100\n",
      "58/58 [==============================] - 0s 5ms/step - loss: -13941431296.0000 - val_loss: -13785711616.0000\n",
      "Epoch 95/100\n",
      "58/58 [==============================] - 0s 6ms/step - loss: -14370801664.0000 - val_loss: -14143669248.0000\n",
      "Epoch 96/100\n",
      "58/58 [==============================] - 0s 5ms/step - loss: -676911488.0000 - val_loss: -14497401856.0000\n",
      "Epoch 97/100\n",
      "58/58 [==============================] - 1s 9ms/step - loss: -15104339968.0000 - val_loss: -14867016704.0000\n",
      "Epoch 98/100\n",
      "58/58 [==============================] - 0s 5ms/step - loss: -15415937024.0000 - val_loss: -15245016064.0000\n",
      "Epoch 99/100\n",
      "58/58 [==============================] - 0s 6ms/step - loss: -15913314304.0000 - val_loss: -15623307264.0000\n",
      "Epoch 100/100\n",
      "58/58 [==============================] - 0s 6ms/step - loss: -16210333696.0000 - val_loss: -16009645056.0000\n"
     ]
    },
    {
     "data": {
      "text/plain": [
       "<keras.src.callbacks.History at 0x7f90bbe6d8d0>"
      ]
     },
     "execution_count": 201,
     "metadata": {},
     "output_type": "execute_result"
    }
   ],
   "source": [
    "# Train the VAE model\n",
    "vae.fit([y_train, X_train], epochs=100, batch_size=64, validation_data=([y_test, X_test], None))"
   ]
  },
  {
   "cell_type": "code",
   "execution_count": 202,
   "metadata": {},
   "outputs": [
    {
     "name": "stdout",
     "output_type": "stream",
     "text": [
      "15/15 [==============================] - 0s 2ms/step\n"
     ]
    }
   ],
   "source": [
    "# Build the encoder model \n",
    "encoder = Model(inputs, [z_mean, z_log_var])\n",
    "z_mean, z_log_var = encoder.predict(X_test, batch_size=64)"
   ]
  },
  {
   "cell_type": "code",
   "execution_count": 203,
   "metadata": {},
   "outputs": [],
   "source": [
    "# locate data points in latent space\n",
    "data_point = X_test[0]\n",
    "data_point_encoding = [z_mean[0], z_log_var[0]]"
   ]
  },
  {
   "cell_type": "code",
   "execution_count": 204,
   "metadata": {},
   "outputs": [],
   "source": [
    "# draw 5 samples from the latent distribution\n",
    "epsilon = np.random.normal(size=(5, latent_dim))\n",
    "z_sample = data_point_encoding[0] + np.exp(data_point_encoding[1] / 2) * epsilon"
   ]
  },
  {
   "cell_type": "code",
   "execution_count": 205,
   "metadata": {},
   "outputs": [],
   "source": [
    "# build decoder model\n",
    "decoder_input = Input(shape=(latent_dim,))\n",
    "_h_decoded = decoder_h(decoder_input)\n",
    "_x_decoded_mean = decoder_mean(_h_decoded)\n",
    "decoder = Model(decoder_input, _x_decoded_mean)"
   ]
  },
  {
   "cell_type": "code",
   "execution_count": 206,
   "metadata": {},
   "outputs": [
    {
     "name": "stdout",
     "output_type": "stream",
     "text": [
      "1/1 [==============================] - 0s 73ms/step\n"
     ]
    }
   ],
   "source": [
    "# decode samples\n",
    "x_decoded = decoder.predict(z_sample)"
   ]
  },
  {
   "cell_type": "code",
   "execution_count": 207,
   "metadata": {},
   "outputs": [
    {
     "name": "stdout",
     "output_type": "stream",
     "text": [
      "Original data point:\n",
      "[-0.34056358 -0.16631005 -0.55174471 -0.04948001 -0.4726319  -0.34453638\n",
      " -0.28844537 -0.28911937 -0.32243754 -0.37278906 -0.29632356 -0.64103532\n",
      "  8.26699206 -0.17544014 -0.18879161 -0.28925083 -0.32224571 -0.34419436\n",
      "  0.55005694 -0.16706796  0.80936442 -0.1148269   2.16605791 -0.2217132\n",
      " -0.33014887 -0.29650289 -0.22853303 -0.23434843 -0.16669638 -0.22378589\n",
      " -0.15845222 -0.14240594 -0.17152212 -0.14341561 -0.19628761 -0.23662691\n",
      " -0.32306004 -0.06039649 -0.18864868 -0.18471202 -0.11437955 -0.17985576\n",
      " -0.20058389 -0.14598088 -0.3044747  -0.1934785  -0.064924   -0.10621441\n",
      "  0.42478664 -0.49688817 -0.14526526  4.31689398 -0.29823892 -0.09222286\n",
      "  0.26272465  0.08774122 -0.14309771]\n",
      "Decoded samples:\n",
      "[[0.0000000e+00 1.0000000e+00 0.0000000e+00 0.0000000e+00 0.0000000e+00\n",
      "  2.9422737e-13 9.9890029e-01 0.0000000e+00 0.0000000e+00 0.0000000e+00\n",
      "  1.0000000e+00 0.0000000e+00 0.0000000e+00 0.0000000e+00 1.0000000e+00\n",
      "  0.0000000e+00 0.0000000e+00 0.0000000e+00 0.0000000e+00 0.0000000e+00\n",
      "  0.0000000e+00 0.0000000e+00 1.0000000e+00 0.0000000e+00 0.0000000e+00\n",
      "  0.0000000e+00 0.0000000e+00 0.0000000e+00 0.0000000e+00 0.0000000e+00\n",
      "  0.0000000e+00 0.0000000e+00 0.0000000e+00 0.0000000e+00 0.0000000e+00\n",
      "  0.0000000e+00 0.0000000e+00 0.0000000e+00 0.0000000e+00 0.0000000e+00\n",
      "  0.0000000e+00 0.0000000e+00 0.0000000e+00 0.0000000e+00 0.0000000e+00\n",
      "  0.0000000e+00 0.0000000e+00 0.0000000e+00 0.0000000e+00 0.0000000e+00\n",
      "  0.0000000e+00 1.0000000e+00 1.0000000e+00 0.0000000e+00 0.0000000e+00\n",
      "  1.0000000e+00 0.0000000e+00]\n",
      " [0.0000000e+00 1.0000000e+00 0.0000000e+00 0.0000000e+00 0.0000000e+00\n",
      "  2.9688307e-13 9.9890929e-01 0.0000000e+00 0.0000000e+00 0.0000000e+00\n",
      "  1.0000000e+00 0.0000000e+00 0.0000000e+00 0.0000000e+00 1.0000000e+00\n",
      "  0.0000000e+00 0.0000000e+00 0.0000000e+00 0.0000000e+00 0.0000000e+00\n",
      "  0.0000000e+00 0.0000000e+00 1.0000000e+00 0.0000000e+00 0.0000000e+00\n",
      "  0.0000000e+00 0.0000000e+00 0.0000000e+00 0.0000000e+00 0.0000000e+00\n",
      "  0.0000000e+00 0.0000000e+00 0.0000000e+00 0.0000000e+00 0.0000000e+00\n",
      "  0.0000000e+00 0.0000000e+00 0.0000000e+00 0.0000000e+00 0.0000000e+00\n",
      "  0.0000000e+00 0.0000000e+00 0.0000000e+00 0.0000000e+00 0.0000000e+00\n",
      "  0.0000000e+00 0.0000000e+00 0.0000000e+00 0.0000000e+00 0.0000000e+00\n",
      "  0.0000000e+00 1.0000000e+00 1.0000000e+00 0.0000000e+00 0.0000000e+00\n",
      "  1.0000000e+00 0.0000000e+00]\n",
      " [0.0000000e+00 1.0000000e+00 0.0000000e+00 0.0000000e+00 0.0000000e+00\n",
      "  2.9761615e-13 9.9890441e-01 0.0000000e+00 0.0000000e+00 0.0000000e+00\n",
      "  1.0000000e+00 0.0000000e+00 0.0000000e+00 0.0000000e+00 1.0000000e+00\n",
      "  0.0000000e+00 0.0000000e+00 0.0000000e+00 0.0000000e+00 0.0000000e+00\n",
      "  0.0000000e+00 0.0000000e+00 1.0000000e+00 0.0000000e+00 0.0000000e+00\n",
      "  0.0000000e+00 0.0000000e+00 0.0000000e+00 0.0000000e+00 0.0000000e+00\n",
      "  0.0000000e+00 0.0000000e+00 0.0000000e+00 0.0000000e+00 0.0000000e+00\n",
      "  0.0000000e+00 0.0000000e+00 0.0000000e+00 0.0000000e+00 0.0000000e+00\n",
      "  0.0000000e+00 0.0000000e+00 0.0000000e+00 0.0000000e+00 0.0000000e+00\n",
      "  0.0000000e+00 0.0000000e+00 0.0000000e+00 0.0000000e+00 0.0000000e+00\n",
      "  0.0000000e+00 1.0000000e+00 1.0000000e+00 0.0000000e+00 0.0000000e+00\n",
      "  1.0000000e+00 0.0000000e+00]\n",
      " [0.0000000e+00 1.0000000e+00 0.0000000e+00 0.0000000e+00 0.0000000e+00\n",
      "  2.9663118e-13 9.9891710e-01 0.0000000e+00 0.0000000e+00 0.0000000e+00\n",
      "  1.0000000e+00 0.0000000e+00 0.0000000e+00 0.0000000e+00 1.0000000e+00\n",
      "  0.0000000e+00 0.0000000e+00 0.0000000e+00 0.0000000e+00 0.0000000e+00\n",
      "  0.0000000e+00 0.0000000e+00 1.0000000e+00 0.0000000e+00 0.0000000e+00\n",
      "  0.0000000e+00 0.0000000e+00 0.0000000e+00 0.0000000e+00 0.0000000e+00\n",
      "  0.0000000e+00 0.0000000e+00 0.0000000e+00 0.0000000e+00 0.0000000e+00\n",
      "  0.0000000e+00 0.0000000e+00 0.0000000e+00 0.0000000e+00 0.0000000e+00\n",
      "  0.0000000e+00 0.0000000e+00 0.0000000e+00 0.0000000e+00 0.0000000e+00\n",
      "  0.0000000e+00 0.0000000e+00 0.0000000e+00 0.0000000e+00 0.0000000e+00\n",
      "  0.0000000e+00 1.0000000e+00 1.0000000e+00 0.0000000e+00 0.0000000e+00\n",
      "  1.0000000e+00 0.0000000e+00]\n",
      " [0.0000000e+00 1.0000000e+00 0.0000000e+00 0.0000000e+00 0.0000000e+00\n",
      "  2.9687797e-13 9.9890351e-01 0.0000000e+00 0.0000000e+00 0.0000000e+00\n",
      "  1.0000000e+00 0.0000000e+00 0.0000000e+00 0.0000000e+00 1.0000000e+00\n",
      "  0.0000000e+00 0.0000000e+00 0.0000000e+00 0.0000000e+00 0.0000000e+00\n",
      "  0.0000000e+00 0.0000000e+00 1.0000000e+00 0.0000000e+00 0.0000000e+00\n",
      "  0.0000000e+00 0.0000000e+00 0.0000000e+00 0.0000000e+00 0.0000000e+00\n",
      "  0.0000000e+00 0.0000000e+00 0.0000000e+00 0.0000000e+00 0.0000000e+00\n",
      "  0.0000000e+00 0.0000000e+00 0.0000000e+00 0.0000000e+00 0.0000000e+00\n",
      "  0.0000000e+00 0.0000000e+00 0.0000000e+00 0.0000000e+00 0.0000000e+00\n",
      "  0.0000000e+00 0.0000000e+00 0.0000000e+00 0.0000000e+00 0.0000000e+00\n",
      "  0.0000000e+00 1.0000000e+00 1.0000000e+00 0.0000000e+00 0.0000000e+00\n",
      "  1.0000000e+00 0.0000000e+00]]\n"
     ]
    }
   ],
   "source": [
    "# visualize decoded samples and original data point\n",
    "print(\"Original data point:\")\n",
    "print(data_point)\n",
    "print(\"Decoded samples:\")\n",
    "print(x_decoded)"
   ]
  },
  {
   "cell_type": "code",
   "execution_count": 208,
   "metadata": {},
   "outputs": [],
   "source": [
    "visualization_data = np.vstack(list(X_test[1:])+ [data_point] + list(x_decoded))"
   ]
  },
  {
   "cell_type": "code",
   "execution_count": 209,
   "metadata": {},
   "outputs": [],
   "source": [
    "# Create labels for the visualization\n",
    "labels = [\"other data point in X_test\"]*len(X_test[1:]) + [\"Original data point\"] + [\"Generated\"]*5\n",
    "colors = [\"darkslategray\"]*len(X_test[1:]) + [\"red\"] + [\"sienna\"]*5"
   ]
  },
  {
   "cell_type": "code",
   "execution_count": 210,
   "metadata": {},
   "outputs": [],
   "source": [
    "# Apply UMAP for visualization\n",
    "umap_model = umap.UMAP(n_components=2)\n",
    "visualized_data = umap_model.fit_transform(visualization_data)"
   ]
  },
  {
   "cell_type": "code",
   "execution_count": 211,
   "metadata": {},
   "outputs": [
    {
     "name": "stderr",
     "output_type": "stream",
     "text": [
      "/Users/hannah/anaconda3/envs/research_seminar/lib/python3.10/site-packages/matplotlib/collections.py:1109: UserWarning: Collection without array used. Make sure to specify the values to be colormapped via the `c` argument.\n",
      "  warnings.warn(\"Collection without array used. Make sure to \"\n",
      "No artists with labels found to put in legend.  Note that artists whose label start with an underscore are ignored when legend() is called with no argument.\n"
     ]
    },
    {
     "data": {
      "image/png": "[encoded data removed]",
      "text/plain": [
       "<Figure size 1000x600 with 1 Axes>"
      ]
     },
     "metadata": {},
     "output_type": "display_data"
    }
   ],
   "source": [
    "# Plot the visualization\n",
    "plt.figure(figsize=(10, 6))\n",
    "#scatter = plt.scatter(visualized_data[:, 0], visualized_data[:, 1], c=range(len(labels)), cmap='viridis')\n",
    "scatter = plt.scatter(visualized_data[:, 0], visualized_data[:, 1], c=colors)\n",
    "plt.legend(handles=scatter.legend_elements()[0], labels=labels)\n",
    "plt.title('UMAP Visualization of Data Point and Reconstructed Representations')\n",
    "plt.show()"
   ]
  },
  {
   "cell_type": "code",
   "execution_count": null,
   "metadata": {},
   "outputs": [],
   "source": []
  }
 ],
 "metadata": {
  "kernelspec": {
   "display_name": "nlp",
   "language": "python",
   "name": "python3"
  },
  "language_info": {
   "codemirror_mode": {
    "name": "ipython",
    "version": 3
   },
   "file_extension": ".py",
   "mimetype": "text/x-python",
   "name": "python",
   "nbconvert_exporter": "python",
   "pygments_lexer": "ipython3",
   "version": "3.10.13"
  }
 },
 "nbformat": 4,
 "nbformat_minor": 2
}
